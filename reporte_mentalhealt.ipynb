{
 "cells": [
  {
   "cell_type": "markdown",
   "metadata": {},
   "source": [
    "# Practica 1.1. Manipuación de datos\n",
    "\n",
    "## Objetivo\n",
    "\n",
    "En esta práctica, aprenderás a aplicar técnicas de análisis de datos utilizando Pandas para explorar un dataset relacionado con la salud mental. El objetivo es que pongas en práctica tus habilidades de manipulación, limpieza y análisis de datos para obtener conclusiones interesantes."
   ]
  },
  {
   "cell_type": "markdown",
   "metadata": {},
   "source": [
    "import pandas as pd\n",
    "import numpy as np\n",
    "import seaborn as sns\n",
    "import matplotlib.pyplot as pltibe aquí tu reporte"
   ]
  },
  {
   "cell_type": "markdown",
   "metadata": {},
   "source": [
    "1. Carga del Dataset"
   ]
  },
  {
   "cell_type": "markdown",
   "metadata": {},
   "source": [
    "1. Carga del Dataset\n",
    "    El dataset consta de 1200 registros y 21 columnas, de las cuales predominaron los datos de tipo entero"
   ]
  },
  {
   "cell_type": "markdown",
   "metadata": {},
   "source": [
    "2. Exploración inicial\n",
    "    Dentro de los datos existieron de tipo object cuando debían ser categoricos, por lo cual se cambio el tipo de datos. En cuanto a las inconsistencias en estos Tomando en cuenta la salud mental al definir como criterio entre 4 y 10 horas de sueño hay 7 personas fuera de ese rango.\n",
    "    Considerando más de 10 horas de actividad fisica como caso extremo eisten 7 personas que realizan más de 10 horas\n",
    "    No existen valores unicos en las columnas"
   ]
  },
  {
   "cell_type": "markdown",
   "metadata": {},
   "source": [
    "3. Limpieza de datos\n",
    "    Porcentaje total de valores nulos en el dataset: 6.2738, Para tratar los valores nulos en las columnas Medication_Use y Substance_Use, se decidió utilizar la estrategia de imputación con una categoría adicional, reemplazando los valores faltantes por \"Desconocido\"."
   ]
  },
  {
   "cell_type": "markdown",
   "metadata": {},
   "source": [
    "4. Análisis Estadístico\n",
    "    Aniety_Score es la columna más variable,Anxiety_Score y Depression_Score tienen ligeras diferencias que podrían señalar una ligera asimetría hacia la izquierda (cuando la media es un poco menor que la mediana), mientras que Stress_Level parece tener una distribución simétrica. "
   ]
  },
  {
   "cell_type": "markdown",
   "metadata": {},
   "source": [
    "5. Filtrado de Datos\n",
    "    El porcentaje de personas con niveles altos de ansiedad es: 50.00%.\n",
    "\n",
    "    Coeficiente de correlación de Pearson: -0.00\n",
    "    Valor p: 0.9913\n",
    "\n",
    "    Lo cual indica que no hay una relación significativa entre el nivel de estrés y el nivel de sueño"
   ]
  },
  {
   "cell_type": "markdown",
   "metadata": {},
   "source": [
    "6. Ordenamiento\n",
    "    Se encontraronlas siguientes características\n",
    "    Características comunes encontradas:\n",
    "\n",
    "    Género: Mayoría son mujeres (6 de 10).\n",
    "\n",
    "    Educación: Nivel educativo alto (PhD es el más común).\n",
    "\n",
    "    Empleo: La mayoría está empleada (5 de 10).\n",
    "\n",
    "    Edad: Promedio de 42 años (rango de 25 a 61).\n",
    "\n",
    "    Horas de sueño: 6.14 en promedio (mínimo 3.6, máximo 8).\n",
    "\n",
    "    Ejercicio: Hacen en promedio 1.76 horas de actividad física al día (algunos hasta 5.1 h).\n",
    "\n",
    "    Apoyo social: Promedio de 4.7 en Social Support Score (rango de 1 a 9).\n",
    "\n",
    "    Ansiedad: Promedio de 13.1 en Anxiety Score (rango de 4 a 20).\n",
    "    \n",
    "Hipótesis  sobre el vínculo entre satisfacción y soledad\n",
    "    Existe una relación entre mayor satisfcción de vida a menor grado de soledad\n"
   ]
  },
  {
   "cell_type": "markdown",
   "metadata": {},
   "source": [
    "7. Guardado de resultados\n",
    "    Número de personas que reciben terapia y tienen bajo estrés: 108, se puede concluir que A menor cantidad de terapia existen mayores personas con  bajo estres"
   ]
  },
  {
   "cell_type": "markdown",
   "metadata": {},
   "source": [
    "8. Visualización adicional\n",
    "    Las mujeres tienen mayor autoestima, seguido de los hombres, los generos con menor autoestima son No binerios y otros\n",
    "\n",
    "\n",
    "    Si el soporte social es mayor en un género, es posible que las personas de ese género tengan una autoestima más alta, lo cual podría reflejarse en la variable Social_Support_Score."
   ]
  }
 ],
 "metadata": {
  "kernelspec": {
   "display_name": "Python 3",
   "language": "python",
   "name": "python3"
  },
  "language_info": {
   "codemirror_mode": {
    "name": "ipython",
    "version": 3
   },
   "file_extension": ".py",
   "mimetype": "text/x-python",
   "name": "python",
   "nbconvert_exporter": "python",
   "pygments_lexer": "ipython3",
   "version": "3.12.4"
  }
 },
 "nbformat": 4,
 "nbformat_minor": 2
}
