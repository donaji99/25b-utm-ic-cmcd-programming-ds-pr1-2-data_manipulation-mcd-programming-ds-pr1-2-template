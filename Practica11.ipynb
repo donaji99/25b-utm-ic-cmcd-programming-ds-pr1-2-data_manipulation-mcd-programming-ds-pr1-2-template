{
 "cells": [
  {
   "cell_type": "code",
   "execution_count": 3,
   "metadata": {},
   "outputs": [],
   "source": [
    "import pandas as pd\n",
    "import numpy as np\n",
    "import seaborn as sns\n",
    "import matplotlib.pyplot as plt"
   ]
  },
  {
   "cell_type": "markdown",
   "metadata": {},
   "source": [
    "Paso 1: Carga del Dataset"
   ]
  },
  {
   "cell_type": "code",
   "execution_count": 4,
   "metadata": {},
   "outputs": [
    {
     "data": {
      "text/html": [
       "<div>\n",
       "<style scoped>\n",
       "    .dataframe tbody tr th:only-of-type {\n",
       "        vertical-align: middle;\n",
       "    }\n",
       "\n",
       "    .dataframe tbody tr th {\n",
       "        vertical-align: top;\n",
       "    }\n",
       "\n",
       "    .dataframe thead th {\n",
       "        text-align: right;\n",
       "    }\n",
       "</style>\n",
       "<table border=\"1\" class=\"dataframe\">\n",
       "  <thead>\n",
       "    <tr style=\"text-align: right;\">\n",
       "      <th></th>\n",
       "      <th>Age</th>\n",
       "      <th>Gender</th>\n",
       "      <th>Education_Level</th>\n",
       "      <th>Employment_Status</th>\n",
       "      <th>Sleep_Hours</th>\n",
       "      <th>Physical_Activity_Hrs</th>\n",
       "      <th>Social_Support_Score</th>\n",
       "      <th>Anxiety_Score</th>\n",
       "      <th>Depression_Score</th>\n",
       "      <th>Stress_Level</th>\n",
       "      <th>...</th>\n",
       "      <th>Chronic_Illnesses</th>\n",
       "      <th>Medication_Use</th>\n",
       "      <th>Therapy</th>\n",
       "      <th>Meditation</th>\n",
       "      <th>Substance_Use</th>\n",
       "      <th>Financial_Stress</th>\n",
       "      <th>Work_Stress</th>\n",
       "      <th>Self_Esteem_Score</th>\n",
       "      <th>Life_Satisfaction_Score</th>\n",
       "      <th>Loneliness_Score</th>\n",
       "    </tr>\n",
       "  </thead>\n",
       "  <tbody>\n",
       "    <tr>\n",
       "      <th>0</th>\n",
       "      <td>56</td>\n",
       "      <td>Male</td>\n",
       "      <td>Bachelor's</td>\n",
       "      <td>Unemployed</td>\n",
       "      <td>6.0</td>\n",
       "      <td>0.4</td>\n",
       "      <td>3</td>\n",
       "      <td>4</td>\n",
       "      <td>2</td>\n",
       "      <td>9</td>\n",
       "      <td>...</td>\n",
       "      <td>0</td>\n",
       "      <td>NaN</td>\n",
       "      <td>0</td>\n",
       "      <td>1</td>\n",
       "      <td>NaN</td>\n",
       "      <td>4</td>\n",
       "      <td>3</td>\n",
       "      <td>7</td>\n",
       "      <td>5</td>\n",
       "      <td>1</td>\n",
       "    </tr>\n",
       "    <tr>\n",
       "      <th>1</th>\n",
       "      <td>69</td>\n",
       "      <td>Female</td>\n",
       "      <td>Bachelor's</td>\n",
       "      <td>Retired</td>\n",
       "      <td>8.8</td>\n",
       "      <td>2.8</td>\n",
       "      <td>6</td>\n",
       "      <td>18</td>\n",
       "      <td>7</td>\n",
       "      <td>6</td>\n",
       "      <td>...</td>\n",
       "      <td>0</td>\n",
       "      <td>NaN</td>\n",
       "      <td>1</td>\n",
       "      <td>0</td>\n",
       "      <td>NaN</td>\n",
       "      <td>1</td>\n",
       "      <td>4</td>\n",
       "      <td>7</td>\n",
       "      <td>4</td>\n",
       "      <td>6</td>\n",
       "    </tr>\n",
       "    <tr>\n",
       "      <th>2</th>\n",
       "      <td>46</td>\n",
       "      <td>Female</td>\n",
       "      <td>Master's</td>\n",
       "      <td>Employed</td>\n",
       "      <td>5.3</td>\n",
       "      <td>1.6</td>\n",
       "      <td>5</td>\n",
       "      <td>5</td>\n",
       "      <td>13</td>\n",
       "      <td>8</td>\n",
       "      <td>...</td>\n",
       "      <td>0</td>\n",
       "      <td>NaN</td>\n",
       "      <td>0</td>\n",
       "      <td>1</td>\n",
       "      <td>NaN</td>\n",
       "      <td>8</td>\n",
       "      <td>7</td>\n",
       "      <td>8</td>\n",
       "      <td>1</td>\n",
       "      <td>1</td>\n",
       "    </tr>\n",
       "    <tr>\n",
       "      <th>3</th>\n",
       "      <td>32</td>\n",
       "      <td>Female</td>\n",
       "      <td>High School</td>\n",
       "      <td>Unemployed</td>\n",
       "      <td>8.8</td>\n",
       "      <td>0.5</td>\n",
       "      <td>4</td>\n",
       "      <td>6</td>\n",
       "      <td>3</td>\n",
       "      <td>4</td>\n",
       "      <td>...</td>\n",
       "      <td>1</td>\n",
       "      <td>NaN</td>\n",
       "      <td>0</td>\n",
       "      <td>0</td>\n",
       "      <td>NaN</td>\n",
       "      <td>7</td>\n",
       "      <td>4</td>\n",
       "      <td>8</td>\n",
       "      <td>4</td>\n",
       "      <td>4</td>\n",
       "    </tr>\n",
       "    <tr>\n",
       "      <th>4</th>\n",
       "      <td>60</td>\n",
       "      <td>Female</td>\n",
       "      <td>Bachelor's</td>\n",
       "      <td>Retired</td>\n",
       "      <td>7.2</td>\n",
       "      <td>0.7</td>\n",
       "      <td>2</td>\n",
       "      <td>7</td>\n",
       "      <td>15</td>\n",
       "      <td>3</td>\n",
       "      <td>...</td>\n",
       "      <td>0</td>\n",
       "      <td>NaN</td>\n",
       "      <td>1</td>\n",
       "      <td>1</td>\n",
       "      <td>Frequent</td>\n",
       "      <td>8</td>\n",
       "      <td>9</td>\n",
       "      <td>5</td>\n",
       "      <td>7</td>\n",
       "      <td>7</td>\n",
       "    </tr>\n",
       "  </tbody>\n",
       "</table>\n",
       "<p>5 rows × 21 columns</p>\n",
       "</div>"
      ],
      "text/plain": [
       "   Age  Gender Education_Level Employment_Status  Sleep_Hours  \\\n",
       "0   56    Male      Bachelor's        Unemployed          6.0   \n",
       "1   69  Female      Bachelor's           Retired          8.8   \n",
       "2   46  Female        Master's          Employed          5.3   \n",
       "3   32  Female     High School        Unemployed          8.8   \n",
       "4   60  Female      Bachelor's           Retired          7.2   \n",
       "\n",
       "   Physical_Activity_Hrs  Social_Support_Score  Anxiety_Score  \\\n",
       "0                    0.4                     3              4   \n",
       "1                    2.8                     6             18   \n",
       "2                    1.6                     5              5   \n",
       "3                    0.5                     4              6   \n",
       "4                    0.7                     2              7   \n",
       "\n",
       "   Depression_Score  Stress_Level  ...  Chronic_Illnesses  Medication_Use  \\\n",
       "0                 2             9  ...                  0             NaN   \n",
       "1                 7             6  ...                  0             NaN   \n",
       "2                13             8  ...                  0             NaN   \n",
       "3                 3             4  ...                  1             NaN   \n",
       "4                15             3  ...                  0             NaN   \n",
       "\n",
       "  Therapy  Meditation  Substance_Use Financial_Stress  Work_Stress  \\\n",
       "0       0           1            NaN                4            3   \n",
       "1       1           0            NaN                1            4   \n",
       "2       0           1            NaN                8            7   \n",
       "3       0           0            NaN                7            4   \n",
       "4       1           1       Frequent                8            9   \n",
       "\n",
       "   Self_Esteem_Score  Life_Satisfaction_Score  Loneliness_Score  \n",
       "0                  7                        5                 1  \n",
       "1                  7                        4                 6  \n",
       "2                  8                        1                 1  \n",
       "3                  8                        4                 4  \n",
       "4                  5                        7                 7  \n",
       "\n",
       "[5 rows x 21 columns]"
      ]
     },
     "execution_count": 4,
     "metadata": {},
     "output_type": "execute_result"
    }
   ],
   "source": [
    "salud = pd.read_csv('mental_health.csv')\n",
    "salud.head()"
   ]
  },
  {
   "cell_type": "code",
   "execution_count": 5,
   "metadata": {},
   "outputs": [
    {
     "name": "stdout",
     "output_type": "stream",
     "text": [
      "<class 'pandas.core.frame.DataFrame'>\n",
      "RangeIndex: 1200 entries, 0 to 1199\n",
      "Data columns (total 21 columns):\n",
      " #   Column                         Non-Null Count  Dtype  \n",
      "---  ------                         --------------  -----  \n",
      " 0   Age                            1200 non-null   int64  \n",
      " 1   Gender                         1200 non-null   object \n",
      " 2   Education_Level                1200 non-null   object \n",
      " 3   Employment_Status              1200 non-null   object \n",
      " 4   Sleep_Hours                    1200 non-null   float64\n",
      " 5   Physical_Activity_Hrs          1200 non-null   float64\n",
      " 6   Social_Support_Score           1200 non-null   int64  \n",
      " 7   Anxiety_Score                  1200 non-null   int64  \n",
      " 8   Depression_Score               1200 non-null   int64  \n",
      " 9   Stress_Level                   1200 non-null   int64  \n",
      " 10  Family_History_Mental_Illness  1200 non-null   int64  \n",
      " 11  Chronic_Illnesses              1200 non-null   int64  \n",
      " 12  Medication_Use                 453 non-null    object \n",
      " 13  Therapy                        1200 non-null   int64  \n",
      " 14  Meditation                     1200 non-null   int64  \n",
      " 15  Substance_Use                  366 non-null    object \n",
      " 16  Financial_Stress               1200 non-null   int64  \n",
      " 17  Work_Stress                    1200 non-null   int64  \n",
      " 18  Self_Esteem_Score              1200 non-null   int64  \n",
      " 19  Life_Satisfaction_Score        1200 non-null   int64  \n",
      " 20  Loneliness_Score               1200 non-null   int64  \n",
      "dtypes: float64(2), int64(14), object(5)\n",
      "memory usage: 197.0+ KB\n",
      "None\n"
     ]
    }
   ],
   "source": [
    "print(salud.info())"
   ]
  },
  {
   "cell_type": "markdown",
   "metadata": {},
   "source": [
    "* ¿Cuántos registros y columnas tiene el dataset?\n",
    "    1200 registros y 21 columnas\n",
    "* ¿Qué tipo de datos predominan?\n",
    "    Predominan los datos de tipo entero"
   ]
  },
  {
   "cell_type": "markdown",
   "metadata": {},
   "source": [
    "Paso 2: Exploración Inicial"
   ]
  },
  {
   "cell_type": "code",
   "execution_count": 6,
   "metadata": {},
   "outputs": [
    {
     "name": "stdout",
     "output_type": "stream",
     "text": [
      "<class 'pandas.core.frame.DataFrame'>\n",
      "RangeIndex: 1200 entries, 0 to 1199\n",
      "Data columns (total 21 columns):\n",
      " #   Column                         Non-Null Count  Dtype   \n",
      "---  ------                         --------------  -----   \n",
      " 0   Age                            1200 non-null   int64   \n",
      " 1   Gender                         1200 non-null   category\n",
      " 2   Education_Level                1200 non-null   category\n",
      " 3   Employment_Status              1200 non-null   category\n",
      " 4   Sleep_Hours                    1200 non-null   float64 \n",
      " 5   Physical_Activity_Hrs          1200 non-null   float64 \n",
      " 6   Social_Support_Score           1200 non-null   int64   \n",
      " 7   Anxiety_Score                  1200 non-null   int64   \n",
      " 8   Depression_Score               1200 non-null   int64   \n",
      " 9   Stress_Level                   1200 non-null   int64   \n",
      " 10  Family_History_Mental_Illness  1200 non-null   int64   \n",
      " 11  Chronic_Illnesses              1200 non-null   int64   \n",
      " 12  Medication_Use                 453 non-null    category\n",
      " 13  Therapy                        1200 non-null   int64   \n",
      " 14  Meditation                     1200 non-null   int64   \n",
      " 15  Substance_Use                  366 non-null    category\n",
      " 16  Financial_Stress               1200 non-null   int64   \n",
      " 17  Work_Stress                    1200 non-null   int64   \n",
      " 18  Self_Esteem_Score              1200 non-null   int64   \n",
      " 19  Life_Satisfaction_Score        1200 non-null   int64   \n",
      " 20  Loneliness_Score               1200 non-null   int64   \n",
      "dtypes: category(5), float64(2), int64(14)\n",
      "memory usage: 156.8 KB\n"
     ]
    }
   ],
   "source": [
    "#Existen datos que deben ser categoricos y eran de tipo object\n",
    "categorical_cols = ['Gender', 'Education_Level', 'Employment_Status', 'Medication_Use', 'Substance_Use']\n",
    "for col in categorical_cols:\n",
    "    salud[col] = salud[col].astype('category')\n",
    "\n",
    "salud.info()\n"
   ]
  },
  {
   "cell_type": "markdown",
   "metadata": {},
   "source": [
    "¿Hay valores que parecen inconsistentes o fuera de rango?"
   ]
  },
  {
   "cell_type": "code",
   "execution_count": 7,
   "metadata": {},
   "outputs": [
    {
     "name": "stdout",
     "output_type": "stream",
     "text": [
      "       Sleep_Hours  Physical_Activity_Hrs\n",
      "count   1200.00000            1200.000000\n",
      "mean       6.46900               2.005750\n",
      "std        1.52955               2.037818\n",
      "min        2.00000               0.000000\n",
      "25%        5.40000               0.600000\n",
      "50%        6.40000               1.400000\n",
      "75%        7.50000               2.700000\n",
      "max       12.40000              15.100000\n",
      "      Age      Gender Education_Level Employment_Status  Sleep_Hours  \\\n",
      "7      56  Non-Binary        Master's        Unemployed          3.3   \n",
      "36     33      Female           Other           Retired          2.7   \n",
      "89     65      Female      Bachelor's        Unemployed          3.8   \n",
      "97     33        Male           Other           Retired          3.8   \n",
      "111    42        Male           Other           Student          3.6   \n",
      "...   ...         ...             ...               ...          ...   \n",
      "1099   32        Male     High School           Retired          3.5   \n",
      "1107   34        Male     High School           Retired          3.8   \n",
      "1174   45      Female             PhD        Unemployed          3.7   \n",
      "1178   23        Male     High School        Unemployed          3.2   \n",
      "1185   74      Female      Bachelor's           Retired          3.6   \n",
      "\n",
      "      Physical_Activity_Hrs  Social_Support_Score  Anxiety_Score  \\\n",
      "7                       0.5                     4              4   \n",
      "36                      0.1                     2             10   \n",
      "89                      1.5                     3              1   \n",
      "97                      2.1                     7              9   \n",
      "111                     0.0                     4              7   \n",
      "...                     ...                   ...            ...   \n",
      "1099                    1.3                     3              2   \n",
      "1107                    3.2                     9             10   \n",
      "1174                    1.6                     9              3   \n",
      "1178                    1.1                     1             13   \n",
      "1185                    4.2                     4              7   \n",
      "\n",
      "      Depression_Score  Stress_Level  ...  Chronic_Illnesses  Medication_Use  \\\n",
      "7                   10             4  ...                  1             NaN   \n",
      "36                   8             3  ...                  0             NaN   \n",
      "89                   3             6  ...                  1      Occasional   \n",
      "97                   9             8  ...                  0             NaN   \n",
      "111                 13             4  ...                  1             NaN   \n",
      "...                ...           ...  ...                ...             ...   \n",
      "1099                13             9  ...                  0             NaN   \n",
      "1107                17             6  ...                  1             NaN   \n",
      "1174                 3             2  ...                  0             NaN   \n",
      "1178                16             5  ...                  0             NaN   \n",
      "1185                 9             8  ...                  0         Regular   \n",
      "\n",
      "     Therapy  Meditation  Substance_Use Financial_Stress  Work_Stress  \\\n",
      "7          0           0            NaN                9            1   \n",
      "36         0           0            NaN                1            5   \n",
      "89         0           1            NaN                4            9   \n",
      "97         0           1            NaN                7            5   \n",
      "111        1           0     Occasional                5            2   \n",
      "...      ...         ...            ...              ...          ...   \n",
      "1099       0           1     Occasional                1            2   \n",
      "1107       0           0     Occasional                1            4   \n",
      "1174       1           1            NaN                9            6   \n",
      "1178       0           1            NaN                4            9   \n",
      "1185       0           0            NaN                5            8   \n",
      "\n",
      "      Self_Esteem_Score  Life_Satisfaction_Score  Loneliness_Score  \n",
      "7                     4                        1                 4  \n",
      "36                    7                        7                 5  \n",
      "89                    6                        1                 2  \n",
      "97                    1                        2                 9  \n",
      "111                   9                        6                 4  \n",
      "...                 ...                      ...               ...  \n",
      "1099                  3                        8                 4  \n",
      "1107                  5                        2                 7  \n",
      "1174                  3                        5                 3  \n",
      "1178                  9                        5                 6  \n",
      "1185                  3                        8                 4  \n",
      "\n",
      "[64 rows x 21 columns]\n",
      "      Age      Gender Education_Level Employment_Status  Sleep_Hours  \\\n",
      "93     40  Non-Binary           Other           Retired         10.5   \n",
      "187    39      Female           Other           Student         12.4   \n",
      "281    23      Female           Other           Retired         10.1   \n",
      "533    29      Female           Other           Student         10.8   \n",
      "845    25        Male        Master's           Student         10.3   \n",
      "978    55      Female     High School          Employed         10.2   \n",
      "1008   64      Female           Other          Employed         11.4   \n",
      "\n",
      "      Physical_Activity_Hrs  Social_Support_Score  Anxiety_Score  \\\n",
      "93                      3.3                     3              6   \n",
      "187                     4.2                     9             19   \n",
      "281                     0.9                     9             16   \n",
      "533                     2.8                     3              5   \n",
      "845                     3.4                     1              9   \n",
      "978                     2.3                     9              7   \n",
      "1008                    4.8                     8              1   \n",
      "\n",
      "      Depression_Score  Stress_Level  ...  Chronic_Illnesses  Medication_Use  \\\n",
      "93                   9             9  ...                  0         Regular   \n",
      "187                 10             8  ...                  0             NaN   \n",
      "281                 19             8  ...                  0             NaN   \n",
      "533                 10             2  ...                  0             NaN   \n",
      "845                  9             2  ...                  0         Regular   \n",
      "978                 10             7  ...                  0         Regular   \n",
      "1008                 2             7  ...                  0             NaN   \n",
      "\n",
      "     Therapy  Meditation  Substance_Use Financial_Stress  Work_Stress  \\\n",
      "93         0           1            NaN                1            2   \n",
      "187        0           0            NaN                7            6   \n",
      "281        0           0            NaN                8            6   \n",
      "533        1           0            NaN                1            3   \n",
      "845        0           1     Occasional                2            8   \n",
      "978        1           1            NaN                2            9   \n",
      "1008       1           0     Occasional                4            5   \n",
      "\n",
      "      Self_Esteem_Score  Life_Satisfaction_Score  Loneliness_Score  \n",
      "93                    1                        1                 3  \n",
      "187                   2                        8                 3  \n",
      "281                   1                        4                 9  \n",
      "533                   8                        2                 8  \n",
      "845                   6                        4                 7  \n",
      "978                   6                        3                 4  \n",
      "1008                  6                        7                 7  \n",
      "\n",
      "[7 rows x 21 columns]\n"
     ]
    }
   ],
   "source": [
    "print(salud[['Sleep_Hours', 'Physical_Activity_Hrs']].describe())\n",
    "\n",
    "print(salud[salud['Sleep_Hours'] < 4])  # Ver casos con poco sueño\n",
    "print(salud[salud['Sleep_Hours'] > 10]) # Ver casos con demasiado sueño\n",
    "\n"
   ]
  },
  {
   "cell_type": "code",
   "execution_count": 8,
   "metadata": {},
   "outputs": [
    {
     "name": "stdout",
     "output_type": "stream",
     "text": [
      "      Age  Gender Education_Level Employment_Status  Sleep_Hours  \\\n",
      "365    50    Male           Other        Unemployed          8.9   \n",
      "393    38  Female     High School           Student          7.8   \n",
      "603    66  Female           Other           Retired          7.2   \n",
      "830    28  Female             PhD           Student          6.4   \n",
      "872    19  Female     High School          Employed          9.7   \n",
      "925    18    Male        Master's           Student          7.6   \n",
      "1165   48    Male      Bachelor's        Unemployed          4.3   \n",
      "\n",
      "      Physical_Activity_Hrs  Social_Support_Score  Anxiety_Score  \\\n",
      "365                    13.4                     6              2   \n",
      "393                    10.8                     9             12   \n",
      "603                    12.1                     3             11   \n",
      "830                    14.7                     3             12   \n",
      "872                    11.2                     1             13   \n",
      "925                    10.9                     1             10   \n",
      "1165                   15.1                     4              5   \n",
      "\n",
      "      Depression_Score  Stress_Level  ...  Chronic_Illnesses  Medication_Use  \\\n",
      "365                 10             4  ...                  0         Regular   \n",
      "393                  6             2  ...                  1             NaN   \n",
      "603                  8             5  ...                  0             NaN   \n",
      "830                  9             4  ...                  1             NaN   \n",
      "872                  7             4  ...                  0         Regular   \n",
      "925                  7             9  ...                  0             NaN   \n",
      "1165                13             3  ...                  0             NaN   \n",
      "\n",
      "     Therapy  Meditation  Substance_Use Financial_Stress  Work_Stress  \\\n",
      "365        0           0            NaN                7            9   \n",
      "393        0           0            NaN                3            5   \n",
      "603        0           1     Occasional                8            5   \n",
      "830        0           0            NaN                8            8   \n",
      "872        0           0     Occasional                1            1   \n",
      "925        0           0            NaN                6            8   \n",
      "1165       0           0            NaN                2            7   \n",
      "\n",
      "      Self_Esteem_Score  Life_Satisfaction_Score  Loneliness_Score  \n",
      "365                   4                        2                 1  \n",
      "393                   4                        1                 3  \n",
      "603                   5                        7                 8  \n",
      "830                   1                        1                 5  \n",
      "872                   2                        9                 9  \n",
      "925                   6                        3                 6  \n",
      "1165                  4                        4                 4  \n",
      "\n",
      "[7 rows x 21 columns]\n"
     ]
    }
   ],
   "source": [
    "#Horas de actividad fisica considerando como caso extremo 10 horas\n",
    "print(salud[salud['Physical_Activity_Hrs'] > 10])  # Casos extremos\n"
   ]
  },
  {
   "cell_type": "code",
   "execution_count": 9,
   "metadata": {},
   "outputs": [
    {
     "name": "stdout",
     "output_type": "stream",
     "text": [
      "Empty DataFrame\n",
      "Columns: [Age, Gender, Education_Level, Employment_Status, Sleep_Hours, Physical_Activity_Hrs, Social_Support_Score, Anxiety_Score, Depression_Score, Stress_Level, Family_History_Mental_Illness, Chronic_Illnesses, Medication_Use, Therapy, Meditation, Substance_Use, Financial_Stress, Work_Stress, Self_Esteem_Score, Life_Satisfaction_Score, Loneliness_Score]\n",
      "Index: []\n",
      "\n",
      "[0 rows x 21 columns]\n"
     ]
    }
   ],
   "source": [
    "print(salud[salud['Age'] < 0]) # Busca edades negativas\n",
    "for col in salud.select_dtypes(include='object'):\n",
    "    print(f\"Columna: {col}\")\n",
    "    print(salud[col].unique())\n",
    "    print(\"------------\")\n",
    "\n",
    "\n",
    "\n"
   ]
  },
  {
   "cell_type": "code",
   "execution_count": 10,
   "metadata": {},
   "outputs": [
    {
     "name": "stdout",
     "output_type": "stream",
     "text": [
      "Medication_Use    747\n",
      "Substance_Use     834\n",
      "dtype: int64\n"
     ]
    }
   ],
   "source": [
    "print(salud[['Medication_Use', 'Substance_Use']].isnull().sum())\n"
   ]
  },
  {
   "cell_type": "markdown",
   "metadata": {},
   "source": [
    "Tomando en cuenta la salud mental al definir como criterio entre 4 y 10 horas de sueño hay 7 personas fuera de ese rango.\n",
    "Considerando más de 10 horas de actividad fisica como caso extremo eisten 7 personas que realizan más de 10 horas\n",
    "No existen valores unicos en las columnas"
   ]
  },
  {
   "cell_type": "markdown",
   "metadata": {},
   "source": [
    "Paso 3: Limpieza de Datos"
   ]
  },
  {
   "cell_type": "code",
   "execution_count": 11,
   "metadata": {},
   "outputs": [
    {
     "name": "stdout",
     "output_type": "stream",
     "text": [
      "Age                               0.00\n",
      "Gender                            0.00\n",
      "Education_Level                   0.00\n",
      "Employment_Status                 0.00\n",
      "Sleep_Hours                       0.00\n",
      "Physical_Activity_Hrs             0.00\n",
      "Social_Support_Score              0.00\n",
      "Anxiety_Score                     0.00\n",
      "Depression_Score                  0.00\n",
      "Stress_Level                      0.00\n",
      "Family_History_Mental_Illness     0.00\n",
      "Chronic_Illnesses                 0.00\n",
      "Medication_Use                   62.25\n",
      "Therapy                           0.00\n",
      "Meditation                        0.00\n",
      "Substance_Use                    69.50\n",
      "Financial_Stress                  0.00\n",
      "Work_Stress                       0.00\n",
      "Self_Esteem_Score                 0.00\n",
      "Life_Satisfaction_Score           0.00\n",
      "Loneliness_Score                  0.00\n",
      "dtype: float64\n",
      "\n",
      "Porcentaje total de valores nulos en el dataset: 6.273809523809523 %\n"
     ]
    }
   ],
   "source": [
    "# Calcular el porcentaje de valores nulos por columna\n",
    "porcentaje_nulos = salud.isnull().sum() / len(salud) * 100\n",
    "print(porcentaje_nulos)\n",
    "\n",
    "# Calcular el porcentaje total de valores nulos en el dataset\n",
    "porcentaje_total_nulos = salud.isnull().sum().sum() / salud.size * 100\n",
    "\n",
    "\n",
    "print(\"\\nPorcentaje total de valores nulos en el dataset:\", porcentaje_total_nulos, \"%\")"
   ]
  },
  {
   "cell_type": "code",
   "execution_count": 12,
   "metadata": {},
   "outputs": [
    {
     "name": "stderr",
     "output_type": "stream",
     "text": [
      "C:\\Users\\-HP-\\AppData\\Local\\Temp\\ipykernel_9924\\776016056.py:6: FutureWarning: A value is trying to be set on a copy of a DataFrame or Series through chained assignment using an inplace method.\n",
      "The behavior will change in pandas 3.0. This inplace method will never work because the intermediate object on which we are setting values always behaves as a copy.\n",
      "\n",
      "For example, when doing 'df[col].method(value, inplace=True)', try using 'df.method({col: value}, inplace=True)' or df[col] = df[col].method(value) instead, to perform the operation inplace on the original object.\n",
      "\n",
      "\n",
      "  salud[\"Medication_Use\"].fillna(\"Desconocido\", inplace=True)\n",
      "C:\\Users\\-HP-\\AppData\\Local\\Temp\\ipykernel_9924\\776016056.py:7: FutureWarning: A value is trying to be set on a copy of a DataFrame or Series through chained assignment using an inplace method.\n",
      "The behavior will change in pandas 3.0. This inplace method will never work because the intermediate object on which we are setting values always behaves as a copy.\n",
      "\n",
      "For example, when doing 'df[col].method(value, inplace=True)', try using 'df.method({col: value}, inplace=True)' or df[col] = df[col].method(value) instead, to perform the operation inplace on the original object.\n",
      "\n",
      "\n",
      "  salud[\"Substance_Use\"].fillna(\"Desconocido\", inplace=True)\n"
     ]
    }
   ],
   "source": [
    "# Agregar \"Desconocido\" como una categoría válida\n",
    "salud[\"Medication_Use\"] = salud[\"Medication_Use\"].cat.add_categories(\"Desconocido\")\n",
    "salud[\"Substance_Use\"] = salud[\"Substance_Use\"].cat.add_categories(\"Desconocido\")\n",
    "\n",
    "# Rellenar valores nulos con \"Desconocido\"\n",
    "salud[\"Medication_Use\"].fillna(\"Desconocido\", inplace=True)\n",
    "salud[\"Substance_Use\"].fillna(\"Desconocido\", inplace=True)\n"
   ]
  },
  {
   "cell_type": "code",
   "execution_count": 13,
   "metadata": {},
   "outputs": [
    {
     "name": "stdout",
     "output_type": "stream",
     "text": [
      "0       Desconocido\n",
      "1       Desconocido\n",
      "2       Desconocido\n",
      "3       Desconocido\n",
      "4       Desconocido\n",
      "           ...     \n",
      "1195     Occasional\n",
      "1196    Desconocido\n",
      "1197    Desconocido\n",
      "1198    Desconocido\n",
      "1199    Desconocido\n",
      "Name: Medication_Use, Length: 1200, dtype: category\n",
      "Categories (3, object): ['Occasional', 'Regular', 'Desconocido']\n",
      "0       Desconocido\n",
      "1       Desconocido\n",
      "2       Desconocido\n",
      "3       Desconocido\n",
      "4          Frequent\n",
      "           ...     \n",
      "1195    Desconocido\n",
      "1196    Desconocido\n",
      "1197    Desconocido\n",
      "1198    Desconocido\n",
      "1199       Frequent\n",
      "Name: Substance_Use, Length: 1200, dtype: category\n",
      "Categories (3, object): ['Frequent', 'Occasional', 'Desconocido']\n"
     ]
    }
   ],
   "source": [
    "#Como podemos ver rellenamos los valores nulos con \"desconocido\"\n",
    "print(salud[\"Medication_Use\"])\n",
    "print(salud[\"Substance_Use\"])"
   ]
  },
  {
   "cell_type": "code",
   "execution_count": 14,
   "metadata": {},
   "outputs": [
    {
     "name": "stdout",
     "output_type": "stream",
     "text": [
      "Substance_Use   Frequent  Occasional  Desconocido   All\n",
      "Medication_Use                                         \n",
      "Occasional            20          42          153   215\n",
      "Regular               25          53          160   238\n",
      "Desconocido           79         147          521   747\n",
      "All                  124         242          834  1200\n"
     ]
    },
    {
     "name": "stderr",
     "output_type": "stream",
     "text": [
      "C:\\Users\\-HP-\\AppData\\Local\\Temp\\ipykernel_9924\\1899037431.py:1: FutureWarning: The default value of observed=False is deprecated and will change to observed=True in a future version of pandas. Specify observed=False to silence this warning and retain the current behavior\n",
      "  pivot_table = pd.pivot_table(\n"
     ]
    }
   ],
   "source": [
    "pivot_table = pd.pivot_table(\n",
    "    salud,\n",
    "    values=\"Age\",\n",
    "    index=\"Medication_Use\",\n",
    "    columns=\"Substance_Use\",\n",
    "    aggfunc=\"count\",\n",
    "    fill_value=0,\n",
    "    margins=True\n",
    ")\n",
    "\n",
    "print(pivot_table)\n"
   ]
  },
  {
   "cell_type": "markdown",
   "metadata": {},
   "source": [
    "¿Qué porcentaje del dataset contiene valores nulos?\n",
    "6.27 %\n",
    "¿Qué estrategia decidiste aplicar para tratar los valores nulos y por qué?\n",
    "Para tratar los valores nulos en las columnas Medication_Use y Substance_Use, se decidió utilizar la estrategia de imputación con una categoría adicional, reemplazando los valores faltantes por \"Desconocido\"."
   ]
  },
  {
   "cell_type": "markdown",
   "metadata": {},
   "source": [
    "Paso 4: Análisis Estadístico"
   ]
  },
  {
   "cell_type": "code",
   "execution_count": 15,
   "metadata": {},
   "outputs": [
    {
     "name": "stdout",
     "output_type": "stream",
     "text": [
      "        Anxiety_Score  Depression_Score  Stress_Level\n",
      "mean        10.470000         10.674167      5.000833\n",
      "median      10.500000         11.000000      5.000000\n",
      "std          5.911138          5.632889      2.538281\n"
     ]
    }
   ],
   "source": [
    "# Calcular estadísticas descriptivas\n",
    "estadisticas = salud[[\"Anxiety_Score\", \"Depression_Score\", \"Stress_Level\"]].agg([\"mean\", \"median\", \"std\"])\n",
    "\n",
    "# Mostrar resultados\n",
    "print(estadisticas)\n"
   ]
  },
  {
   "cell_type": "markdown",
   "metadata": {},
   "source": [
    "¿Cuál de los tres puntajes tiene mayor variabilidad?\n",
    "Anxiety_Score\n",
    "¿Qué observas sobre la diferencia entre media y mediana en cada caso? ¿Qué te dice esto sobre la distribución?\n",
    "Anxiety_Score y Depression_Score tienen ligeras diferencias que podrían señalar una ligera asimetría hacia la izquierda (cuando la media es un poco menor que la mediana), mientras que Stress_Level parece tener una distribución simétrica."
   ]
  },
  {
   "cell_type": "markdown",
   "metadata": {},
   "source": [
    "Paso 5: Filtrado de Datos"
   ]
  },
  {
   "cell_type": "code",
   "execution_count": null,
   "metadata": {},
   "outputs": [
    {
     "name": "stdout",
     "output_type": "stream",
     "text": [
      "El porcentaje de personas con niveles altos de ansiedad es: 50.00%\n"
     ]
    }
   ],
   "source": [
    "# Definir el umbral de niveles altos de ansiedad\n",
    "umbral_ansiedad = salud[\"Anxiety_Score\"].mean()\n",
    "\n",
    "# Contar cuántas personas tienen niveles altos de ansiedad\n",
    "#Considerando niveles altos como mayores al promedio\n",
    "altos_niveles_ansiedad = salud[salud[\"Anxiety_Score\"] > umbral_ansiedad].shape[0]\n",
    "\n",
    "# Calcular el porcentaje\n",
    "porcentaje_altos_niveles_ansiedad = (altos_niveles_ansiedad / salud.shape[0]) * 100\n",
    "\n",
    "# Mostrar el resultado\n",
    "print(f\"El porcentaje de personas con niveles altos de ansiedad es: {porcentaje_altos_niveles_ansiedad:.2f}%\")\n"
   ]
  },
  {
   "cell_type": "code",
   "execution_count": null,
   "metadata": {},
   "outputs": [
    {
     "data": {
      "image/png": "[encoded data removed]",
      "text/plain": [
       "<Figure size 800x600 with 1 Axes>"
      ]
     },
     "metadata": {},
     "output_type": "display_data"
    }
   ],
   "source": [
    "\n",
    "\n",
    "# Crear gráfico de dispersión\n",
    "plt.figure(figsize=(8, 6))\n",
    "sns.scatterplot(x=salud[\"Sleep_Hours\"], y=salud[\"Stress_Level\"])\n",
    "plt.title(\"Relación entre horas de sueño y nivel de estrés\")\n",
    "plt.xlabel(\"Horas de sueño\")\n",
    "plt.ylabel(\"Nivel de estrés\")\n",
    "plt.show()\n"
   ]
  },
  {
   "cell_type": "code",
   "execution_count": 17,
   "metadata": {},
   "outputs": [
    {
     "data": {
      "image/png": "[encoded data removed]",
      "text/plain": [
       "<Figure size 800x600 with 1 Axes>"
      ]
     },
     "metadata": {},
     "output_type": "display_data"
    },
    {
     "name": "stdout",
     "output_type": "stream",
     "text": [
      "Coeficiente de correlación de Pearson: -0.00\n",
      "Valor p: 0.9913\n"
     ]
    }
   ],
   "source": [
    "\n",
    "import scipy.stats as stats\n",
    "\n",
    "# Calcular la correlación de Pearson\n",
    "correlation, p_value = stats.pearsonr(salud[\"Sleep_Hours\"], salud[\"Stress_Level\"])\n",
    "\n",
    "# Crear gráfico de dispersión con línea de regresión\n",
    "plt.figure(figsize=(8, 6))\n",
    "sns.regplot(x=salud[\"Sleep_Hours\"], y=salud[\"Stress_Level\"], scatter=True, line_kws={\"color\": \"red\"})\n",
    "plt.title(f\"Relación entre horas de sueño y nivel de estrés\\nCorrelación: {correlation:.2f} (p={p_value:.4f})\")\n",
    "plt.xlabel(\"Horas de sueño\")\n",
    "plt.ylabel(\"Nivel de estrés\")\n",
    "plt.show()\n",
    "\n",
    "# Imprimir la correlación numérica\n",
    "print(f\"Coeficiente de correlación de Pearson: {correlation:.2f}\")\n",
    "print(f\"Valor p: {p_value:.4f}\")\n"
   ]
  },
  {
   "cell_type": "markdown",
   "metadata": {},
   "source": [
    "¿Qué porcentaje del total presenta niveles altos de ansiedad?\n",
    "50%\n",
    "¿Existe una relación visible entre las horas de sueño y el nivel de estrés?\n",
    "Con base en estos resultados, podemos decir que las horas de sueño no influyen significativamente en el nivel de estrés en esta muestra de datos. Sin embargo, podría haber otros factores (como calidad del sueño, hábitos de vida o trabajo) que sí tengan impacto en el estrés y que no están considerados aquí.\n"
   ]
  },
  {
   "cell_type": "markdown",
   "metadata": {},
   "source": [
    "Paso 6: Ordenamiento"
   ]
  },
  {
   "cell_type": "code",
   "execution_count": 23,
   "metadata": {},
   "outputs": [
    {
     "name": "stdout",
     "output_type": "stream",
     "text": [
      "              Age  Gender Education_Level Employment_Status  Sleep_Hours  \\\n",
      "count   10.000000      10              10                10    10.000000   \n",
      "unique        NaN       3               5                 4          NaN   \n",
      "top           NaN  Female             PhD          Employed          NaN   \n",
      "freq          NaN       6               3                 5          NaN   \n",
      "mean    42.000000     NaN             NaN               NaN     6.140000   \n",
      "std     11.155467     NaN             NaN               NaN     1.346766   \n",
      "min     25.000000     NaN             NaN               NaN     3.600000   \n",
      "25%     33.500000     NaN             NaN               NaN     5.425000   \n",
      "50%     43.500000     NaN             NaN               NaN     6.250000   \n",
      "75%     47.750000     NaN             NaN               NaN     7.125000   \n",
      "max     61.000000     NaN             NaN               NaN     8.000000   \n",
      "\n",
      "        Physical_Activity_Hrs  Social_Support_Score  Anxiety_Score  \\\n",
      "count               10.000000             10.000000       10.00000   \n",
      "unique                    NaN                   NaN            NaN   \n",
      "top                       NaN                   NaN            NaN   \n",
      "freq                      NaN                   NaN            NaN   \n",
      "mean                 1.760000              4.700000       13.10000   \n",
      "std                  1.548619              2.406011        5.42525   \n",
      "min                  0.200000              1.000000        4.00000   \n",
      "25%                  0.475000              3.250000        8.25000   \n",
      "50%                  1.600000              4.000000       14.50000   \n",
      "75%                  2.250000              5.750000       17.00000   \n",
      "max                  5.100000              9.000000       20.00000   \n",
      "\n",
      "        Depression_Score  Stress_Level  ...  Chronic_Illnesses  \\\n",
      "count          10.000000     10.000000  ...          10.000000   \n",
      "unique               NaN           NaN  ...                NaN   \n",
      "top                  NaN           NaN  ...                NaN   \n",
      "freq                 NaN           NaN  ...                NaN   \n",
      "mean            9.700000      6.100000  ...           0.100000   \n",
      "std             5.888784      2.378141  ...           0.316228   \n",
      "min             4.000000      1.000000  ...           0.000000   \n",
      "25%             5.250000      5.250000  ...           0.000000   \n",
      "50%             8.000000      6.000000  ...           0.000000   \n",
      "75%            13.500000      8.000000  ...           0.000000   \n",
      "max            20.000000      9.000000  ...           1.000000   \n",
      "\n",
      "        Medication_Use    Therapy  Meditation  Substance_Use Financial_Stress  \\\n",
      "count               10  10.000000   10.000000             10         10.00000   \n",
      "unique               3        NaN         NaN              2              NaN   \n",
      "top        Desconocido        NaN         NaN    Desconocido              NaN   \n",
      "freq                 8        NaN         NaN              6              NaN   \n",
      "mean               NaN   0.200000    0.300000            NaN          4.70000   \n",
      "std                NaN   0.421637    0.483046            NaN          2.58414   \n",
      "min                NaN   0.000000    0.000000            NaN          1.00000   \n",
      "25%                NaN   0.000000    0.000000            NaN          3.00000   \n",
      "50%                NaN   0.000000    0.000000            NaN          4.50000   \n",
      "75%                NaN   0.000000    0.750000            NaN          6.75000   \n",
      "max                NaN   1.000000    1.000000            NaN          8.00000   \n",
      "\n",
      "        Work_Stress  Self_Esteem_Score  Life_Satisfaction_Score  \\\n",
      "count     10.000000          10.000000                     10.0   \n",
      "unique          NaN                NaN                      NaN   \n",
      "top             NaN                NaN                      NaN   \n",
      "freq            NaN                NaN                      NaN   \n",
      "mean       5.300000           5.300000                      9.0   \n",
      "std        1.828782           1.567021                      0.0   \n",
      "min        2.000000           3.000000                      9.0   \n",
      "25%        4.250000           4.000000                      9.0   \n",
      "50%        5.000000           5.500000                      9.0   \n",
      "75%        6.000000           6.000000                      9.0   \n",
      "max        8.000000           8.000000                      9.0   \n",
      "\n",
      "        Loneliness_Score  \n",
      "count               10.0  \n",
      "unique               NaN  \n",
      "top                  NaN  \n",
      "freq                 NaN  \n",
      "mean                 1.0  \n",
      "std                  0.0  \n",
      "min                  1.0  \n",
      "25%                  1.0  \n",
      "50%                  1.0  \n",
      "75%                  1.0  \n",
      "max                  1.0  \n",
      "\n",
      "[11 rows x 21 columns]\n",
      "Archivo 'top_satisfechos_menor_soledad.csv' guardado con éxito.\n"
     ]
    }
   ],
   "source": [
    "# Ordenar por mayor satisfacción de vida y menor puntaje de soledad\n",
    "top_satisfechos = salud.sort_values(by=[\"Life_Satisfaction_Score\", \"Loneliness_Score\"], ascending=[False, True])\n",
    "\n",
    "# Seleccionar las 10 personas con mayor satisfacción y menor soledad\n",
    "top_10 = top_satisfechos.head(10)\n",
    "\n",
    "# Mostrar las características comunes en estas 10 personas\n",
    "print(top_10.describe(include=\"all\"))  # Resumen estadístico y categórico\n",
    "\n",
    "# Guardar el subconjunto en un archivo CSV\n",
    "top_10.to_csv(\"top_satisfechos_menor_soledad.csv\", index=False)\n",
    "\n",
    "print(\"Archivo 'top_satisfechos_menor_soledad.csv' guardado con éxito.\")"
   ]
  },
  {
   "cell_type": "markdown",
   "metadata": {},
   "source": [
    "¿Qué características comunes encuentras en estas 10 personas?\n",
    "    Características comunes encontradas:\n",
    "\n",
    "    Género: Mayoría son mujeres (6 de 10).\n",
    "\n",
    "    Educación: Nivel educativo alto (PhD es el más común).\n",
    "\n",
    "    Empleo: La mayoría está empleada (5 de 10).\n",
    "\n",
    "    Edad: Promedio de 42 años (rango de 25 a 61).\n",
    "\n",
    "    Horas de sueño: 6.14 en promedio (mínimo 3.6, máximo 8).\n",
    "\n",
    "    Ejercicio: Hacen en promedio 1.76 horas de actividad física al día (algunos hasta 5.1 h).\n",
    "\n",
    "    Apoyo social: Promedio de 4.7 en Social Support Score (rango de 1 a 9).\n",
    "\n",
    "    Ansiedad: Promedio de 13.1 en Anxiety Score (rango de 4 a 20).\n",
    "    \n",
    "¿Qué hipótesis podrías plantear sobre el vínculo entre satisfacción y soledad?\n",
    "    Existe una relación entre mayor satisfcción de vida a menor grado de soledad"
   ]
  },
  {
   "cell_type": "markdown",
   "metadata": {},
   "source": [
    "Paso 7: Guardado de Resultados"
   ]
  },
  {
   "cell_type": "code",
   "execution_count": 25,
   "metadata": {},
   "outputs": [
    {
     "name": "stdout",
     "output_type": "stream",
     "text": [
      "Número de personas que reciben terapia y tienen bajo estrés: 108\n"
     ]
    }
   ],
   "source": [
    "\n",
    "\n",
    "# Calcular la mediana del nivel de estrés\n",
    "mediana_estres = salud[\"Stress_Level\"].median()\n",
    "\n",
    "# Filtrar personas que reciben terapia (Therapy == 1) y tienen nivel de estrés menor a la mediana\n",
    "subset_terapia_estres = salud[(salud[\"Therapy\"] == 1) & (salud[\"Stress_Level\"] < mediana_estres)]\n",
    "\n",
    "# Guardar el subconjunto en un nuevo archivo CSV\n",
    "subset_terapia_estres.to_csv(\"terapia_bajo_estres.csv\", index=False)\n",
    "\n",
    "# Mostrar el número de personas que cumplen ambas condiciones\n",
    "print(f\"Número de personas que reciben terapia y tienen bajo estrés: {len(subset_terapia_estres)}\")\n"
   ]
  },
  {
   "cell_type": "markdown",
   "metadata": {},
   "source": [
    "¿Cuántas personas cumplen con ambas condiciones?\n",
    "108\n",
    "¿Qué conclusiones puedes hacer sobre la relación entre terapia y nivel de estrés en este conjunto?\n",
    "A menor cantidad de terapia existen mayores personas con  bajo estres"
   ]
  },
  {
   "cell_type": "markdown",
   "metadata": {},
   "source": [
    "Paso 8: Visualización Opcional"
   ]
  },
  {
   "cell_type": "code",
   "execution_count": 26,
   "metadata": {},
   "outputs": [
    {
     "name": "stderr",
     "output_type": "stream",
     "text": [
      "C:\\Users\\-HP-\\AppData\\Local\\Temp\\ipykernel_9924\\2777051559.py:2: FutureWarning: The default of observed=False is deprecated and will be changed to True in a future version of pandas. Pass observed=False to retain current behavior or observed=True to adopt the future default and silence this warning.\n",
      "  media_autoestima_por_genero = salud.groupby('Gender')['Self_Esteem_Score'].mean()\n"
     ]
    },
    {
     "data": {
      "image/png": "[encoded data removed]",
      "text/plain": [
       "<Figure size 800x600 with 1 Axes>"
      ]
     },
     "metadata": {},
     "output_type": "display_data"
    }
   ],
   "source": [
    "\n",
    "\n",
    "# Calcular la media de autoestima por género\n",
    "media_autoestima_por_genero = salud.groupby('Gender')['Self_Esteem_Score'].mean()\n",
    "\n",
    "# Crear gráfico de barras\n",
    "plt.figure(figsize=(8, 6))\n",
    "media_autoestima_por_genero.plot(kind='bar', color=['skyblue', 'lightcoral'])\n",
    "plt.title('Media de Autoestima según el Género')\n",
    "plt.xlabel('Género')\n",
    "plt.ylabel('Puntaje de Autoestima')\n",
    "plt.xticks(rotation=0)  # Para que las etiquetas del eje X no se roten\n",
    "plt.show()\n"
   ]
  },
  {
   "cell_type": "markdown",
   "metadata": {},
   "source": [
    "¿Hay diferencias notables entre los géneros en cuanto a autoestima?\n",
    "Las mujeres tienen mayor autoestima, seguido de los hombres, los generos con menor autoestima son No binerios y otros\n",
    "\n",
    "¿Qué factores del dataset podrían explicar estas diferencias?\n",
    "Si el soporte social es mayor en un género, es posible que las personas de ese género tengan una autoestima más alta, lo cual podría reflejarse en la variable Social_Support_Score."
   ]
  }
 ],
 "metadata": {
  "kernelspec": {
   "display_name": "Python 3",
   "language": "python",
   "name": "python3"
  },
  "language_info": {
   "codemirror_mode": {
    "name": "ipython",
    "version": 3
   },
   "file_extension": ".py",
   "mimetype": "text/x-python",
   "name": "python",
   "nbconvert_exporter": "python",
   "pygments_lexer": "ipython3",
   "version": "3.12.4"
  }
 },
 "nbformat": 4,
 "nbformat_minor": 2
}
